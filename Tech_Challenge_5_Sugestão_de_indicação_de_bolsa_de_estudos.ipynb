{
  "nbformat": 4,
  "nbformat_minor": 0,
  "metadata": {
    "colab": {
      "provenance": []
    },
    "kernelspec": {
      "name": "python3",
      "display_name": "Python 3"
    },
    "language_info": {
      "name": "python"
    }
  },
  "cells": [
    {
      "cell_type": "markdown",
      "source": [
        "# criar modelo para sugerir bolsa de estudos com XGBOOST (pegar acuracia, graficos, etc)"
      ],
      "metadata": {
        "id": "v2bFE0-fp2Kh"
      }
    },
    {
      "cell_type": "code",
      "execution_count": null,
      "metadata": {
        "id": "--64gRgNpvRN"
      },
      "outputs": [],
      "source": []
    }
  ]
}