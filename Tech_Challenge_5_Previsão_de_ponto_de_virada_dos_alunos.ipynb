{
  "nbformat": 4,
  "nbformat_minor": 0,
  "metadata": {
    "colab": {
      "provenance": []
    },
    "kernelspec": {
      "name": "python3",
      "display_name": "Python 3"
    },
    "language_info": {
      "name": "python"
    }
  },
  "cells": [
    {
      "cell_type": "code",
      "execution_count": null,
      "metadata": {
        "id": "hihm_lpvqCmg"
      },
      "outputs": [],
      "source": [
        "# consumir o nlp e com base nos dados, utilizar um label encoder para a classe do comentario do aluno e utilziar xgboost com o resultado"
      ]
    }
  ]
}